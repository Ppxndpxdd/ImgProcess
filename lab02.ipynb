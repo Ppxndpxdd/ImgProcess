{
 "cells": [
  {
   "cell_type": "code",
   "execution_count": 1,
   "metadata": {},
   "outputs": [],
   "source": [
    "import cv2\n",
    "import numpy as np\n",
    "import math\n",
    "import matplotlib.image as mpimg\n",
    "#import matplotlib.pyplot as plt\n",
    "%matplotlib widget\n",
    "from matplotlib import pyplot as plt\n",
    "from mpl_toolkits.mplot3d import Axes3D"
   ]
  },
  {
   "cell_type": "code",
   "execution_count": null,
   "metadata": {},
   "outputs": [],
   "source": [
    "imgIN = cv2.imread(\"tree-1.jpg\")\n",
    "imgTemp = cv2.imread(\"sunset.jpg\")"
   ]
  },
  {
   "cell_type": "code",
   "execution_count": null,
   "metadata": {},
   "outputs": [],
   "source": [
    "imgIN = cv2.cvtColor(imgIN, cv2.COLOR_BGR2RGB)\n",
    "imgTemp = cv2.cvtColor(imgTemp, cv2.COLOR_BGR2RGB)"
   ]
  },
  {
   "cell_type": "code",
   "execution_count": null,
   "metadata": {},
   "outputs": [],
   "source": [
    "#Image Histogram Matching\n",
    "def calculate_cdf(histogram):\n",
    "    \"\"\"\n",
    "    This method calculates the cumulative distribution function\n",
    "    :param array histogram: The values of the histogram\n",
    "    :return: normalized_cdf: The normalized cumulative distribution function\n",
    "    :rtype: array\n",
    "    \"\"\"\n",
    "    # Get the cumulative sum of the elements\n",
    "    cdf = histogram.cumsum()\n",
    " \n",
    "    # Normalize the cdf\n",
    "    normalized_cdf = cdf / float(cdf.max())\n",
    " \n",
    "    return normalized_cdf\n",
    "\n",
    "def calculate_lookup(src_cdf, ref_cdf):\n",
    "    \"\"\"\n",
    "    This method creates the lookup table\n",
    "    :param array src_cdf: The cdf for the source image\n",
    "    :param array ref_cdf: The cdf for the reference image\n",
    "    :return: lookup_table: The lookup table\n",
    "    :rtype: array\n",
    "    \"\"\"\n",
    "    lookup_table = np.zeros(256)\n",
    "    lookup_val = 0\n",
    "    for src_pixel_val in range(len(src_cdf)):\n",
    "        lookup_val\n",
    "        for ref_pixel_val in range(len(ref_cdf)):\n",
    "            if ref_cdf[ref_pixel_val] >= src_cdf[src_pixel_val]:\n",
    "                lookup_val = ref_pixel_val\n",
    "                break\n",
    "        lookup_table[src_pixel_val] = lookup_val\n",
    "    return lookup_table\n",
    "\n",
    "def match_histograms(src_image, ref_image):\n",
    "    \"\"\"\n",
    "    This method matches the source image histogram to the\n",
    "    reference signal\n",
    "    :param image src_image: The original source image\n",
    "    :param image  ref_image: The reference image\n",
    "    :return: image_after_matching\n",
    "    :rtype: image (array)\n",
    "    \"\"\"\n",
    "    # Split the images into the different color channels\n",
    "    # b means blue, g means green and r means red\n",
    "    src_b, src_g, src_r = cv2.split(src_image)\n",
    "    ref_b, ref_g, ref_r = cv2.split(ref_image)\n",
    " \n",
    "    # Compute the b, g, and r histograms separately\n",
    "    # The flatten() Numpy method returns a copy of the array c\n",
    "    # collapsed into one dimension.\n",
    "    src_hist_blue, bin_0 = np.histogram(src_b.flatten(), 256, [0,256])\n",
    "    src_hist_green, bin_1 = np.histogram(src_g.flatten(), 256, [0,256])\n",
    "    src_hist_red, bin_2 = np.histogram(src_r.flatten(), 256, [0,256])    \n",
    "    ref_hist_blue, bin_3 = np.histogram(ref_b.flatten(), 256, [0,256])    \n",
    "    ref_hist_green, bin_4 = np.histogram(ref_g.flatten(), 256, [0,256])\n",
    "    ref_hist_red, bin_5 = np.histogram(ref_r.flatten(), 256, [0,256])\n",
    " \n",
    "    # Compute the normalized cdf for the source and reference image\n",
    "    src_cdf_blue = calculate_cdf(src_hist_blue)\n",
    "    src_cdf_green = calculate_cdf(src_hist_green)\n",
    "    src_cdf_red = calculate_cdf(src_hist_red)\n",
    "    ref_cdf_blue = calculate_cdf(ref_hist_blue)\n",
    "    ref_cdf_green = calculate_cdf(ref_hist_green)\n",
    "    ref_cdf_red = calculate_cdf(ref_hist_red)\n",
    " \n",
    "    # Make a separate lookup table for each color\n",
    "    blue_lookup_table = calculate_lookup(src_cdf_blue, ref_cdf_blue)\n",
    "    green_lookup_table = calculate_lookup(src_cdf_green, ref_cdf_green)\n",
    "    red_lookup_table = calculate_lookup(src_cdf_red, ref_cdf_red)\n",
    " \n",
    "    # Use the lookup function to transform the colors of the original\n",
    "    # source image\n",
    "    blue_after_transform = cv2.LUT(src_b, blue_lookup_table)\n",
    "    green_after_transform = cv2.LUT(src_g, green_lookup_table)\n",
    "    red_after_transform = cv2.LUT(src_r, red_lookup_table)\n",
    " \n",
    "    # Put the image back together\n",
    "    image_after_matching = cv2.merge([\n",
    "        blue_after_transform, green_after_transform, red_after_transform])\n",
    "    image_after_matching = cv2.convertScaleAbs(image_after_matching)\n",
    " \n",
    "    return image_after_matching"
   ]
  },
  {
   "cell_type": "code",
   "execution_count": null,
   "metadata": {},
   "outputs": [],
   "source": [
    "output_image = match_histograms(imgIN, imgTemp)"
   ]
  }
 ],
 "metadata": {
  "kernelspec": {
   "display_name": "Python 3",
   "language": "python",
   "name": "python3"
  },
  "language_info": {
   "codemirror_mode": {
    "name": "ipython",
    "version": 3
   },
   "file_extension": ".py",
   "mimetype": "text/x-python",
   "name": "python",
   "nbconvert_exporter": "python",
   "pygments_lexer": "ipython3",
   "version": "3.11.3"
  },
  "orig_nbformat": 4
 },
 "nbformat": 4,
 "nbformat_minor": 2
}
